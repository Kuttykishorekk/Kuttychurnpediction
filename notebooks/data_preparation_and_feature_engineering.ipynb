{
 "cells": [
  {
   "cell_type": "code",
   "execution_count": 6,
   "metadata": {},
   "outputs": [
    {
     "data": {
      "text/plain": [
       "CustomerID                     0\n",
       "Churn                          0\n",
       "Tenure                         0\n",
       "PreferredLoginDevice           0\n",
       "CityTier                       0\n",
       "WarehouseToHome                0\n",
       "PreferredPaymentMode           0\n",
       "Gender                         0\n",
       "HourSpendOnApp                 0\n",
       "NumberOfDeviceRegistered       0\n",
       "PreferedOrderCat               0\n",
       "SatisfactionScore              0\n",
       "MaritalStatus                  0\n",
       "NumberOfAddress                0\n",
       "Complain                       0\n",
       "OrderAmountHikeFromlastYear    0\n",
       "CouponUsed                     0\n",
       "OrderCount                     0\n",
       "DaySinceLastOrder              0\n",
       "CashbackAmount                 0\n",
       "dtype: int64"
      ]
     },
     "execution_count": 6,
     "metadata": {},
     "output_type": "execute_result"
    }
   ],
   "source": [
    "import pandas as pd\n",
    "\n",
    "# Load the E-Commerce Dataset\n",
    "eCommerce_data = pd.read_excel('../data/raw/E Commerce Dataset.xlsx')\n",
    "ecommerce_data_cleaned = eCommerce_data.copy()\n",
    "\n",
    "# Data Cleaning\n",
    "# Removing impossible values, for example, negative values in numerical columns that should only have positive values.\n",
    "for column in ['Tenure', 'WarehouseToHome', 'HourSpendOnApp', 'OrderAmountHikeFromlastYear', 'CouponUsed', 'OrderCount', 'DaySinceLastOrder', 'CashbackAmount']:\n",
    "    ecommerce_data_cleaned = ecommerce_data_cleaned[ecommerce_data_cleaned[column] >= 0]\n",
    "\n",
    "# Removing CustomerID duplicates, if any.\n",
    "ecommerce_data_cleaned = ecommerce_data_cleaned.drop_duplicates(subset=['CustomerID'])\n",
    "\n",
    "# Handling Missing Values\n",
    "from sklearn.impute import SimpleImputer\n",
    "\n",
    "# Numerical imputer\n",
    "num_imputer = SimpleImputer(strategy='mean')\n",
    "ecommerce_data_cleaned[['Tenure', 'WarehouseToHome', 'HourSpendOnApp', 'OrderAmountHikeFromlastYear', 'CouponUsed', 'OrderCount', 'DaySinceLastOrder']] = num_imputer.fit_transform(ecommerce_data_cleaned[['Tenure', 'WarehouseToHome', 'HourSpendOnApp', 'OrderAmountHikeFromlastYear', 'CouponUsed', 'OrderCount', 'DaySinceLastOrder']])\n",
    "\n",
    "# Ensure no more missing values\n",
    "missing_values_after_imputation = ecommerce_data_cleaned.isnull().sum()\n",
    "\n",
    "missing_values_after_imputation"
   ]
  },
  {
   "cell_type": "code",
   "execution_count": 7,
   "metadata": {},
   "outputs": [
    {
     "data": {
      "text/plain": [
       "(3774, 31)"
      ]
     },
     "execution_count": 7,
     "metadata": {},
     "output_type": "execute_result"
    }
   ],
   "source": [
    "# Encoding Categorical Variables\n",
    "categorical_features = ecommerce_data_cleaned.select_dtypes(include=['object', 'category']).columns\n",
    "ecommerce_data_encoded = pd.get_dummies(ecommerce_data_cleaned, columns=categorical_features, drop_first=True)\n",
    "\n",
    "# Display the encoded dataset structure\n",
    "ecommerce_data_encoded.shape"
   ]
  },
  {
   "cell_type": "code",
   "execution_count": 8,
   "metadata": {},
   "outputs": [
    {
     "data": {
      "text/plain": [
       "(3774, 33)"
      ]
     },
     "execution_count": 8,
     "metadata": {},
     "output_type": "execute_result"
    }
   ],
   "source": [
    "# Feature Engineering\n",
    "# Introducing a new feature: AvgSpending = OrderAmountHikeFromlastYear * CashbackAmount\n",
    "eCommerce_data['AvgSpending'] = eCommerce_data['OrderAmountHikeFromlastYear'] * eCommerce_data['CashbackAmount']\n",
    "\n",
    "# Also, combining Tenure and NumberOfDeviceRegistered into a new feature: DeviceEngagementIndex = Tenure * NumberOfDeviceRegistered\n",
    "eCommerce_data['DeviceEngagementIndex'] = eCommerce_data['Tenure'] * eCommerce_data['NumberOfDeviceRegistered']\n",
    "\n",
    "ecommerce_data_encoded['AvgSpending'] = eCommerce_data['AvgSpending']\n",
    "ecommerce_data_encoded['DeviceEngagementIndex'] = eCommerce_data['DeviceEngagementIndex']\n",
    "\n",
    "# Display the updated dataset structure\n",
    "ecommerce_data_encoded.shape"
   ]
  },
  {
   "cell_type": "code",
   "execution_count": 9,
   "metadata": {},
   "outputs": [
    {
     "data": {
      "text/plain": [
       "((2641, 31), (1133, 31), (2641,), (1133,))"
      ]
     },
     "execution_count": 9,
     "metadata": {},
     "output_type": "execute_result"
    }
   ],
   "source": [
    "# Preparing the Final Dataset\n",
    "# Dropping the 'CustomerID' column as it's not a useful feature for prediction\n",
    "ecommerce_data_encoded = ecommerce_data_encoded.drop(['CustomerID'], axis=1)\n",
    "\n",
    "# Splitting the dataset into features (X) and target (y)\n",
    "X = ecommerce_data_encoded.drop('Churn', axis=1)\n",
    "y = ecommerce_data_encoded['Churn']\n",
    "\n",
    "# Splitting the data into training and testing sets\n",
    "from sklearn.model_selection import train_test_split\n",
    "X_train, X_test, y_train, y_test = train_test_split(X, y, test_size=0.3, random_state=42)\n",
    "\n",
    "(X_train.shape, X_test.shape, y_train.shape, y_test.shape)"
   ]
  },
  {
   "cell_type": "markdown",
   "metadata": {},
   "source": [
    "The final dataset has been prepared, with the following dimensions:\n",
    "\n",
    "- Training features (X_train): 2641 samples, 31 features\n",
    "- Testing features (X_test): 1133 samples, 31 features\n",
    "- Training target (y_train): 2641 samples\n",
    "- Testing target (y_test): 1133 samples"
   ]
  },
  {
   "cell_type": "markdown",
   "metadata": {},
   "source": [
    "# Modeling and Evaluation\n",
    "\n",
    "Let's start with training the model and conducting hyperparameter tuning."
   ]
  },
  {
   "cell_type": "code",
   "execution_count": 10,
   "metadata": {},
   "outputs": [
    {
     "data": {
      "text/plain": [
       "{'max_depth': 20,\n",
       " 'min_samples_leaf': 1,\n",
       " 'min_samples_split': 2,\n",
       " 'n_estimators': 200}"
      ]
     },
     "execution_count": 10,
     "metadata": {},
     "output_type": "execute_result"
    }
   ],
   "source": [
    "from sklearn.model_selection import GridSearchCV\n",
    "from sklearn.ensemble import RandomForestClassifier\n",
    "\n",
    "# Initialize the classifier\n",
    "rf = RandomForestClassifier(random_state=42)\n",
    "\n",
    "# Grid of parameters to choose from\n",
    "parameters = {\n",
    "    'n_estimators': [100, 200],\n",
    "    'max_depth': [10, 20, None],\n",
    "    'min_samples_split': [2, 5],\n",
    "    'min_samples_leaf': [1, 2]\n",
    "}\n",
    "\n",
    "# Conducting Grid Search\n",
    "clf = GridSearchCV(rf, parameters, cv=3, scoring='accuracy')\n",
    "clf.fit(X_train, y_train)\n",
    "\n",
    "# Best Parameters\n",
    "best_params = clf.best_params_\n",
    "\n",
    "# Best model\n",
    "best_rf = clf.best_estimator_\n",
    "\n",
    "best_params"
   ]
  },
  {
   "cell_type": "markdown",
   "metadata": {},
   "source": [
    "The hyperparameter tuning process identified the best parameters for the RandomForestClassifier as follows:\n",
    "- `max_depth`: 20\n",
    "- `min_samples_leaf`: 1\n",
    "- `min_samples_split`: 2\n",
    "- `n_estimators`: 200\n",
    "\n",
    "With these optimized parameters, let's proceed to evaluate the"
   ]
  },
  {
   "cell_type": "code",
   "execution_count": 11,
   "metadata": {},
   "outputs": [
    {
     "data": {
      "text/plain": [
       "({'accuracy': 0.9567519858781994,\n",
       "  'precision': 0.9230769230769231,\n",
       "  'recall': 0.7764705882352941,\n",
       "  'f1_score': 0.8434504792332268,\n",
       "  'auc_score': 0.9853643638140613},\n",
       " '              precision    recall  f1-score   support\\n\\n           0       0.96      0.99      0.97       963\\n           1       0.92      0.78      0.84       170\\n\\n    accuracy                           0.96      1133\\n   macro avg       0.94      0.88      0.91      1133\\nweighted avg       0.96      0.96      0.96      1133\\n')"
      ]
     },
     "execution_count": 11,
     "metadata": {},
     "output_type": "execute_result"
    }
   ],
   "source": [
    "from sklearn.metrics import accuracy_score, precision_score, recall_score, f1_score, roc_auc_score, classification_report\n",
    "\n",
    "# Predictions\n",
    "y_pred = best_rf.predict(X_test)\n",
    "y_prob = best_rf.predict_proba(X_test)[:,1]\n",
    "\n",
    "# Evaluation Metrics\n",
    "accuracy = accuracy_score(y_test, y_pred)\n",
    "precision = precision_score(y_test, y_pred)\n",
    "recall = recall_score(y_test, y_pred)\n",
    "f1 = f1_score(y_test, y_pred)\n",
    "auc = roc_auc_score(y_test, y_prob)\n",
    "\n",
    "results = {\n",
    "    'accuracy': accuracy,\n",
    "    'precision': precision,\n",
    "    'recall': recall,\n",
    "    'f1_score': f1,\n",
    "    'auc_score': auc\n",
    "}\n",
    "\n",
    "# Classification report\n",
    "report = classification_report(y_test, y_pred)\n",
    "\n",
    "(results, report)"
   ]
  },
  {
   "cell_type": "markdown",
   "metadata": {},
   "source": [
    "NameError: name 'X_train' is not definedThe model evaluation yielded the following results:\n",
    "- **Accuracy**: 95.67%\n",
    "- **Precision**: 92.31%\n",
    "- **Recall**: 77.65%\n",
    "- **F1 Score**: 84.35%\n",
    "- **AUC Score**: 98.54%\n",
    "\n",
    "The classification report provides a detailed breakdown of precision, recall, and F1 score for both classes (churned and not churned), indicating that the model performs with high accuracy and good balance between precision and recall, particularly for predicting non-churned customers. The high AUC score suggests excellent model performance in distinguishing between churned and not churned customers.\n",
    "\n",
    "Let's proceed to analyze the feature importance."
   ]
  },
  {
   "cell_type": "code",
   "execution_count": 12,
   "metadata": {},
   "outputs": [
    {
     "data": {
      "text/plain": [
       "<Figure size 1000x800 with 0 Axes>"
      ]
     },
     "metadata": {},
     "output_type": "display_data"
    },
    {
     "data": {
      "image/png": "[encoded data removed]",
      "text/plain": [
       "<Figure size 640x480 with 1 Axes>"
      ]
     },
     "metadata": {},
     "output_type": "display_data"
    }
   ],
   "source": [
    "import pandas as pd\n",
    "import matplotlib.pyplot as plt\n",
    "\n",
    "# Get numerical feature importances\n",
    "importances = best_rf.feature_importances_\n",
    "\n",
    "# List of tuples with variable and importance\n",
    "feature_list = list(zip(X.columns, importances))\n",
    "\n",
    "# Sort the feature importances by most important first\n",
    "feature_list = sorted(feature_list, key = lambda x: x[1], reverse = True)\n",
    "\n",
    "# DataFrame\n",
    "feature_importance_df = pd.DataFrame(feature_list, columns=['Feature', 'Importance']).set_index('Feature')\n",
    "\n",
    "# Plot\n",
    "plt.figure(figsize=(10,8))\n",
    "feature_importance_df[:10].plot(kind='barh')\n",
    "plt.title('Top 10 Features Contributing to Model')\n",
    "plt.show()"
   ]
  },
  {
   "cell_type": "markdown",
   "metadata": {},
   "source": [
    "The bar chart visualizes the top 10 features that contribute most significantly to the churn prediction model. These features are indicative of the factors that are most influential in predicting customer churn based on the dataset provided."
   ]
  }
 ],
 "metadata": {
  "kernelspec": {
   "display_name": "myenv",
   "language": "python",
   "name": "python3"
  },
  "language_info": {
   "codemirror_mode": {
    "name": "ipython",
    "version": 3
   },
   "file_extension": ".py",
   "mimetype": "text/x-python",
   "name": "python",
   "nbconvert_exporter": "python",
   "pygments_lexer": "ipython3",
   "version": "3.7.12"
  }
 },
 "nbformat": 4,
 "nbformat_minor": 2
}
